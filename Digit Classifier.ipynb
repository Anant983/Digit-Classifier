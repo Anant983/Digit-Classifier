{
 "cells": [
  {
   "cell_type": "code",
   "execution_count": 1,
   "id": "d4501043-b093-4b89-86be-c0edca9762ce",
   "metadata": {},
   "outputs": [],
   "source": [
    "import numpy as np\n",
    "from keras.datasets import mnist\n",
    "import tensorflow as tf\n",
    "from keras.models import Sequential\n",
    "import keras"
   ]
  },
  {
   "cell_type": "code",
   "execution_count": 2,
   "id": "ac61d1e3-e7ec-4139-be8b-04625b2f6234",
   "metadata": {},
   "outputs": [],
   "source": [
    "(x_train, y_train), (x_test, y_test) = mnist.load_data()\n",
    "y_train = y_train.reshape((-1,1))\n",
    "y_test = y_test.reshape((-1,1))\n"
   ]
  },
  {
   "cell_type": "code",
   "execution_count": 3,
   "id": "bb4c19f3-ee7c-4508-a5ae-0c858a150d04",
   "metadata": {},
   "outputs": [],
   "source": [
    "\n",
    "y_test = keras.utils.to_categorical(y_test)\n",
    "y_train = keras.utils.to_categorical(y_train)"
   ]
  },
  {
   "cell_type": "code",
   "execution_count": 4,
   "id": "a2cd43be-0ce7-4ec4-a9e9-c2bd82885668",
   "metadata": {},
   "outputs": [
    {
     "data": {
      "text/plain": [
       "<matplotlib.image.AxesImage at 0x179061040>"
      ]
     },
     "execution_count": 4,
     "metadata": {},
     "output_type": "execute_result"
    },
    {
     "data": {
      "image/png": "[encoded data removed]",
      "text/plain": [
       "<Figure size 432x288 with 1 Axes>"
      ]
     },
     "metadata": {
      "needs_background": "light"
     },
     "output_type": "display_data"
    }
   ],
   "source": [
    "import matplotlib.pyplot as plt\n",
    "plt.imshow(x_train[5000])"
   ]
  },
  {
   "cell_type": "code",
   "execution_count": 5,
   "id": "69749e3a-d74d-4c13-b78b-df6129e9bff3",
   "metadata": {},
   "outputs": [],
   "source": [
    "x_train = x_train/255.0\n",
    "x_test = x_test/255.0"
   ]
  },
  {
   "cell_type": "code",
   "execution_count": 6,
   "id": "6b84b7bd-8cb2-4597-b402-982ad3024728",
   "metadata": {},
   "outputs": [],
   "source": [
    "x_train = x_train.reshape(len(x_train),28,28,1)\n",
    "x_test = x_test.reshape(len(x_test), 28,28,1)"
   ]
  },
  {
   "cell_type": "markdown",
   "id": "68aced85-c9b2-4f59-a858-3778b07aeb4d",
   "metadata": {},
   "source": [
    "## Model"
   ]
  },
  {
   "cell_type": "code",
   "execution_count": 16,
   "id": "2fc6f38a-1a55-464d-9c91-7e6cbac788ba",
   "metadata": {},
   "outputs": [],
   "source": [
    "from keras.layers import Conv2D, MaxPooling2D, Dense, Flatten\n"
   ]
  },
  {
   "cell_type": "code",
   "execution_count": 17,
   "id": "f3c1e857-a9cb-4938-a6e2-bfdc6c430714",
   "metadata": {},
   "outputs": [],
   "source": [
    "model = Sequential([\n",
    "    Conv2D(32, (3,3), activation = 'relu', input_shape = (28,28,1)),\n",
    "    MaxPooling2D((2,2)),\n",
    "    \n",
    "    Conv2D(64, (3,3), activation = 'relu'),\n",
    "    MaxPooling2D((2,2)),\n",
    "    \n",
    "    Flatten(),\n",
    "    Dense(1024, activation = 'relu'),\n",
    "    Dense(10, activation = 'softmax')\n",
    "])"
   ]
  },
  {
   "cell_type": "code",
   "execution_count": 18,
   "id": "60e910d6-1520-4a7a-aba1-666058f687f5",
   "metadata": {},
   "outputs": [],
   "source": [
    "model.compile(optimizer = 'adam', loss = 'categorical_crossentropy', metrics = ['accuracy'])"
   ]
  },
  {
   "cell_type": "code",
   "execution_count": 19,
   "id": "1a2c2866-76a9-4332-80ee-f18cadcb4d97",
   "metadata": {},
   "outputs": [
    {
     "name": "stdout",
     "output_type": "stream",
     "text": [
      "Epoch 1/15\n"
     ]
    },
    {
     "name": "stderr",
     "output_type": "stream",
     "text": [
      "2022-07-14 08:05:05.679299: I tensorflow/core/grappler/optimizers/custom_graph_optimizer_registry.cc:113] Plugin optimizer for device_type GPU is enabled.\n"
     ]
    },
    {
     "name": "stdout",
     "output_type": "stream",
     "text": [
      "59/59 [==============================] - 4s 69ms/step - loss: 0.5145 - accuracy: 0.8540\n",
      "Epoch 2/15\n",
      "59/59 [==============================] - 4s 65ms/step - loss: 0.1091 - accuracy: 0.9676\n",
      "Epoch 3/15\n",
      "59/59 [==============================] - 4s 65ms/step - loss: 0.0661 - accuracy: 0.9803\n",
      "Epoch 4/15\n",
      "59/59 [==============================] - 4s 64ms/step - loss: 0.0505 - accuracy: 0.9850\n",
      "Epoch 5/15\n",
      "59/59 [==============================] - 4s 64ms/step - loss: 0.0407 - accuracy: 0.9876\n",
      "Epoch 6/15\n",
      "59/59 [==============================] - 4s 64ms/step - loss: 0.0340 - accuracy: 0.9898\n",
      "Epoch 7/15\n",
      "59/59 [==============================] - 4s 66ms/step - loss: 0.0286 - accuracy: 0.9913\n",
      "Epoch 8/15\n",
      "59/59 [==============================] - 4s 66ms/step - loss: 0.0237 - accuracy: 0.9930\n",
      "Epoch 9/15\n",
      "59/59 [==============================] - 4s 65ms/step - loss: 0.0208 - accuracy: 0.9939\n",
      "Epoch 10/15\n",
      "59/59 [==============================] - 4s 65ms/step - loss: 0.0172 - accuracy: 0.9954\n",
      "Epoch 11/15\n",
      "59/59 [==============================] - 4s 66ms/step - loss: 0.0159 - accuracy: 0.9954\n",
      "Epoch 12/15\n",
      "59/59 [==============================] - 4s 66ms/step - loss: 0.0128 - accuracy: 0.9967\n",
      "Epoch 13/15\n",
      "59/59 [==============================] - 4s 65ms/step - loss: 0.0111 - accuracy: 0.9966\n",
      "Epoch 14/15\n",
      "59/59 [==============================] - 4s 65ms/step - loss: 0.0130 - accuracy: 0.9961\n",
      "Epoch 15/15\n",
      "59/59 [==============================] - 4s 65ms/step - loss: 0.0090 - accuracy: 0.9974\n"
     ]
    },
    {
     "data": {
      "text/plain": [
       "<keras.callbacks.History at 0x177855880>"
      ]
     },
     "execution_count": 19,
     "metadata": {},
     "output_type": "execute_result"
    }
   ],
   "source": [
    "model.fit(x_train, y_train, epochs = 15, batch_size = 1024)"
   ]
  },
  {
   "cell_type": "code",
   "execution_count": 20,
   "id": "7bd2df33-bd60-4ace-a6ca-518b207873c7",
   "metadata": {},
   "outputs": [
    {
     "name": "stdout",
     "output_type": "stream",
     "text": [
      " 19/313 [>.............................] - ETA: 1s - loss: 0.0219 - accuracy: 0.9918"
     ]
    },
    {
     "name": "stderr",
     "output_type": "stream",
     "text": [
      "2022-07-14 08:06:21.139238: I tensorflow/core/grappler/optimizers/custom_graph_optimizer_registry.cc:113] Plugin optimizer for device_type GPU is enabled.\n"
     ]
    },
    {
     "name": "stdout",
     "output_type": "stream",
     "text": [
      "313/313 [==============================] - 2s 5ms/step - loss: 0.0285 - accuracy: 0.9906\n"
     ]
    },
    {
     "data": {
      "text/plain": [
       "[0.02853587456047535, 0.990600049495697]"
      ]
     },
     "execution_count": 20,
     "metadata": {},
     "output_type": "execute_result"
    }
   ],
   "source": [
    "model.evaluate(x_test,y_test)"
   ]
  }
 ],
 "metadata": {
  "kernelspec": {
   "display_name": "Python 3 (ipykernel)",
   "language": "python",
   "name": "python3"
  },
  "language_info": {
   "codemirror_mode": {
    "name": "ipython",
    "version": 3
   },
   "file_extension": ".py",
   "mimetype": "text/x-python",
   "name": "python",
   "nbconvert_exporter": "python",
   "pygments_lexer": "ipython3",
   "version": "3.8.2"
  }
 },
 "nbformat": 4,
 "nbformat_minor": 5
}
